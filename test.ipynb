{
 "cells": [
  {
   "cell_type": "code",
   "execution_count": 1,
   "id": "ad76e6b3",
   "metadata": {
    "_cell_guid": "b1076dfc-b9ad-4769-8c92-a6c4dae69d19",
    "_uuid": "8f2839f25d086af736a60e9eeb907d3b93b6e0e5",
    "execution": {
     "iopub.execute_input": "2024-05-04T03:59:53.861800Z",
     "iopub.status.busy": "2024-05-04T03:59:53.861100Z",
     "iopub.status.idle": "2024-05-04T03:59:54.928853Z",
     "shell.execute_reply": "2024-05-04T03:59:54.927288Z"
    },
    "papermill": {
     "duration": 1.076425,
     "end_time": "2024-05-04T03:59:54.931309",
     "exception": false,
     "start_time": "2024-05-04T03:59:53.854884",
     "status": "completed"
    },
    "tags": []
   },
   "outputs": [
    {
     "name": "stdout",
     "output_type": "stream",
     "text": [
      "/kaggle/input/crop-dataset/Crop_Dataset.csv\n"
     ]
    }
   ],
   "source": [
    "# This Python 3 environment comes with many helpful analytics libraries installed\n",
    "# It is defined by the kaggle/python Docker image: https://github.com/kaggle/docker-python\n",
    "# For example, here's several helpful packages to load\n",
    "\n",
    "import numpy as np # linear algebra\n",
    "import pandas as pd # data processing, CSV file I/O (e.g. pd.read_csv)\n",
    "\n",
    "# Input data files are available in the read-only \"../input/\" directory\n",
    "# For example, running this (by clicking run or pressing Shift+Enter) will list all files under the input directory\n",
    "\n",
    "import os\n",
    "for dirname, _, filenames in os.walk('/kaggle/input'):\n",
    "    for filename in filenames:\n",
    "        print(os.path.join(dirname, filename))\n",
    "\n",
    "# You can write up to 20GB to the current directory (/kaggle/working/) that gets preserved as output when you create a version using \"Save & Run All\" \n",
    "# You can also write temporary files to /kaggle/temp/, but they won't be saved outside of the current session"
   ]
  },
  {
   "cell_type": "code",
   "execution_count": 2,
   "id": "c5dab2cb",
   "metadata": {
    "execution": {
     "iopub.execute_input": "2024-05-04T03:59:54.939983Z",
     "iopub.status.busy": "2024-05-04T03:59:54.939213Z",
     "iopub.status.idle": "2024-05-04T03:59:54.943754Z",
     "shell.execute_reply": "2024-05-04T03:59:54.943006Z"
    },
    "papermill": {
     "duration": 0.011475,
     "end_time": "2024-05-04T03:59:54.946187",
     "exception": false,
     "start_time": "2024-05-04T03:59:54.934712",
     "status": "completed"
    },
    "tags": []
   },
   "outputs": [
    {
     "name": "stdout",
     "output_type": "stream",
     "text": [
      "Hii\n"
     ]
    }
   ],
   "source": [
    "print('Hii')"
   ]
  },
  {
   "cell_type": "code",
   "execution_count": null,
   "id": "365b2495",
   "metadata": {
    "papermill": {
     "duration": 0.003375,
     "end_time": "2024-05-04T03:59:54.952968",
     "exception": false,
     "start_time": "2024-05-04T03:59:54.949593",
     "status": "completed"
    },
    "tags": []
   },
   "outputs": [],
   "source": []
  },
  {
   "cell_type": "code",
   "execution_count": null,
   "id": "79591974",
   "metadata": {
    "papermill": {
     "duration": 0.003404,
     "end_time": "2024-05-04T03:59:54.960108",
     "exception": false,
     "start_time": "2024-05-04T03:59:54.956704",
     "status": "completed"
    },
    "tags": []
   },
   "outputs": [],
   "source": []
  },
  {
   "cell_type": "code",
   "execution_count": null,
   "id": "2ed16ac6",
   "metadata": {
    "papermill": {
     "duration": 0.003015,
     "end_time": "2024-05-04T03:59:54.966397",
     "exception": false,
     "start_time": "2024-05-04T03:59:54.963382",
     "status": "completed"
    },
    "tags": []
   },
   "outputs": [],
   "source": []
  },
  {
   "cell_type": "code",
   "execution_count": null,
   "id": "4c31a106",
   "metadata": {
    "papermill": {
     "duration": 0.00317,
     "end_time": "2024-05-04T03:59:54.973139",
     "exception": false,
     "start_time": "2024-05-04T03:59:54.969969",
     "status": "completed"
    },
    "tags": []
   },
   "outputs": [],
   "source": []
  }
 ],
 "metadata": {
  "kaggle": {
   "accelerator": "none",
   "dataSources": [
    {
     "datasetId": 4934945,
     "sourceId": 8308097,
     "sourceType": "datasetVersion"
    }
   ],
   "dockerImageVersionId": 30698,
   "isGpuEnabled": false,
   "isInternetEnabled": true,
   "language": "python",
   "sourceType": "notebook"
  },
  "kernelspec": {
   "display_name": "Python 3",
   "language": "python",
   "name": "python3"
  },
  "language_info": {
   "codemirror_mode": {
    "name": "ipython",
    "version": 3
   },
   "file_extension": ".py",
   "mimetype": "text/x-python",
   "name": "python",
   "nbconvert_exporter": "python",
   "pygments_lexer": "ipython3",
   "version": "3.10.13"
  },
  "papermill": {
   "default_parameters": {},
   "duration": 5.053864,
   "end_time": "2024-05-04T03:59:55.498750",
   "environment_variables": {},
   "exception": null,
   "input_path": "__notebook__.ipynb",
   "output_path": "__notebook__.ipynb",
   "parameters": {},
   "start_time": "2024-05-04T03:59:50.444886",
   "version": "2.5.0"
  }
 },
 "nbformat": 4,
 "nbformat_minor": 5
}
